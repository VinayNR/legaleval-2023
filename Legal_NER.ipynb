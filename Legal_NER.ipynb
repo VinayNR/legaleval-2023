{
 "cells": [
  {
   "cell_type": "code",
   "execution_count": 1,
   "id": "def0062d-2ff6-4674-b381-edce37c34967",
   "metadata": {},
   "outputs": [],
   "source": [
    "from flair.datasets import ColumnCorpus\n",
    "from flair.embeddings import WordEmbeddings\n",
    "from flair.models import SequenceTagger\n",
    "from flair.trainers import ModelTrainer"
   ]
  },
  {
   "cell_type": "code",
   "execution_count": 4,
   "id": "2d317f27",
   "metadata": {},
   "outputs": [],
   "source": [
    "data_folder = \"data\"\n",
    "columns = {0: 'text', 1: 'ner'}"
   ]
  },
  {
   "cell_type": "code",
   "execution_count": 3,
   "id": "873c0802",
   "metadata": {},
   "outputs": [],
   "source": [
    "embeddings = WordEmbeddings('glove')"
   ]
  },
  {
   "cell_type": "code",
   "execution_count": 5,
   "id": "7e4dfc0f",
   "metadata": {},
   "outputs": [
    {
     "name": "stdout",
     "output_type": "stream",
     "text": [
      "2022-12-13 14:18:41,962 Reading data from data\n",
      "2022-12-13 14:18:41,966 Train: data/JUDGEMENT_BIO.txt\n",
      "2022-12-13 14:18:41,972 Dev: None\n",
      "2022-12-13 14:18:41,974 Test: None\n"
     ]
    }
   ],
   "source": [
    "corpus = ColumnCorpus(data_folder, columns,\n",
    "                              train_file='JUDGEMENT_BIO.txt',)"
   ]
  },
  {
   "cell_type": "code",
   "execution_count": 6,
   "id": "e31944b7-e1cf-48a4-b8c1-269e94bb48fa",
   "metadata": {},
   "outputs": [],
   "source": [
    " tag_dictionary = corpus.make_tag_dictionary('ner')"
   ]
  },
  {
   "cell_type": "code",
   "execution_count": 7,
   "id": "6fccb30f",
   "metadata": {},
   "outputs": [],
   "source": [
    "tagger = SequenceTagger(hidden_size=256,\n",
    "                        embeddings=embeddings,\n",
    "                        tag_dictionary=tag_dictionary,\n",
    "                        tag_type='ner',\n",
    "                        use_crf=True)"
   ]
  },
  {
   "cell_type": "code",
   "execution_count": 8,
   "id": "48ff57f0",
   "metadata": {},
   "outputs": [],
   "source": [
    "trainer = ModelTrainer(tagger, corpus)"
   ]
  },
  {
   "cell_type": "code",
   "execution_count": null,
   "id": "b8011333",
   "metadata": {},
   "outputs": [
    {
     "name": "stdout",
     "output_type": "stream",
     "text": [
      "2022-12-13 14:19:09,006 ----------------------------------------------------------------------------------------------------\n",
      "2022-12-13 14:19:09,008 Model: \"SequenceTagger(\n",
      "  (embeddings): WordEmbeddings('glove')\n",
      "  (word_dropout): WordDropout(p=0.05)\n",
      "  (locked_dropout): LockedDropout(p=0.5)\n",
      "  (embedding2nn): Linear(in_features=100, out_features=100, bias=True)\n",
      "  (rnn): LSTM(100, 256, batch_first=True, bidirectional=True)\n",
      "  (linear): Linear(in_features=512, out_features=29, bias=True)\n",
      "  (beta): 1.0\n",
      "  (weights): None\n",
      "  (weight_tensor) None\n",
      ")\"\n",
      "2022-12-13 14:19:09,011 ----------------------------------------------------------------------------------------------------\n",
      "2022-12-13 14:19:09,013 Corpus: \"Corpus: 7642 train + 849 dev + 944 test sentences\"\n",
      "2022-12-13 14:19:09,014 ----------------------------------------------------------------------------------------------------\n",
      "2022-12-13 14:19:09,015 Parameters:\n",
      "2022-12-13 14:19:09,017  - learning_rate: \"0.1\"\n",
      "2022-12-13 14:19:09,018  - mini_batch_size: \"32\"\n",
      "2022-12-13 14:19:09,019  - patience: \"3\"\n",
      "2022-12-13 14:19:09,021  - anneal_factor: \"0.5\"\n",
      "2022-12-13 14:19:09,023  - max_epochs: \"15\"\n",
      "2022-12-13 14:19:09,025  - shuffle: \"True\"\n",
      "2022-12-13 14:19:09,026  - train_with_dev: \"False\"\n",
      "2022-12-13 14:19:09,027  - batch_growth_annealing: \"False\"\n",
      "2022-12-13 14:19:09,028 ----------------------------------------------------------------------------------------------------\n",
      "2022-12-13 14:19:09,030 Model training base path: \"flair-model\"\n",
      "2022-12-13 14:19:09,031 ----------------------------------------------------------------------------------------------------\n",
      "2022-12-13 14:19:09,033 Device: cpu\n",
      "2022-12-13 14:19:09,035 ----------------------------------------------------------------------------------------------------\n",
      "2022-12-13 14:19:09,036 Embeddings storage mode: cpu\n",
      "2022-12-13 14:19:09,041 ----------------------------------------------------------------------------------------------------\n",
      "2022-12-13 14:19:30,770 epoch 1 - iter 23/239 - loss 1.18647120 - samples/sec: 33.90 - lr: 0.100000\n",
      "2022-12-13 14:19:51,353 epoch 1 - iter 46/239 - loss 1.00697998 - samples/sec: 35.77 - lr: 0.100000\n",
      "2022-12-13 14:20:10,455 epoch 1 - iter 69/239 - loss 0.90764521 - samples/sec: 38.54 - lr: 0.100000\n",
      "2022-12-13 14:20:29,858 epoch 1 - iter 92/239 - loss 0.83326419 - samples/sec: 37.94 - lr: 0.100000\n",
      "2022-12-13 14:20:50,538 epoch 1 - iter 115/239 - loss 0.77345399 - samples/sec: 35.60 - lr: 0.100000\n"
     ]
    }
   ],
   "source": [
    "trainer.train('flair-model',\n",
    "              learning_rate=0.1,\n",
    "              mini_batch_size=32,\n",
    "              max_epochs=15)"
   ]
  },
  {
   "cell_type": "code",
   "execution_count": null,
   "id": "c2cbc224",
   "metadata": {},
   "outputs": [],
   "source": []
  }
 ],
 "metadata": {
  "kernelspec": {
   "display_name": "Python 3 (ipykernel)",
   "language": "python",
   "name": "python3"
  },
  "language_info": {
   "codemirror_mode": {
    "name": "ipython",
    "version": 3
   },
   "file_extension": ".py",
   "mimetype": "text/x-python",
   "name": "python",
   "nbconvert_exporter": "python",
   "pygments_lexer": "ipython3",
   "version": "3.9.13"
  }
 },
 "nbformat": 4,
 "nbformat_minor": 5
}
